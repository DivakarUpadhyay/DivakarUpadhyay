{
  "nbformat": 4,
  "nbformat_minor": 0,
  "metadata": {
    "colab": {
      "provenance": [],
      "authorship_tag": "ABX9TyPPnYZrpvLaJu0r64FcHHFo",
      "include_colab_link": true
    },
    "kernelspec": {
      "name": "python3",
      "display_name": "Python 3"
    },
    "language_info": {
      "name": "python"
    }
  },
  "cells": [
    {
      "cell_type": "markdown",
      "metadata": {
        "id": "view-in-github",
        "colab_type": "text"
      },
      "source": [
        "<a href=\"https://colab.research.google.com/github/DivakarUpadhyay/DivakarUpadhyay/blob/main/PythonBasic.ipynb\" target=\"_parent\"><img src=\"https://colab.research.google.com/assets/colab-badge.svg\" alt=\"Open In Colab\"/></a>"
      ]
    },
    {
      "cell_type": "code",
      "execution_count": 6,
      "metadata": {
        "colab": {
          "base_uri": "https://localhost:8080/"
        },
        "id": "DcmWAjQIOSnr",
        "outputId": "6aca0fe6-cc08-45e3-ab39-483d185357d8"
      },
      "outputs": [
        {
          "output_type": "stream",
          "name": "stdout",
          "text": [
            "hello world\n"
          ]
        }
      ],
      "source": [
        "print(\"hello world\")"
      ]
    },
    {
      "cell_type": "code",
      "source": [
        "help(\"global\")"
      ],
      "metadata": {
        "colab": {
          "base_uri": "https://localhost:8080/"
        },
        "id": "SnJn1EPVqs8R",
        "outputId": "9177809d-31c2-4264-d0ba-defe3c5a1498"
      },
      "execution_count": 7,
      "outputs": [
        {
          "output_type": "stream",
          "name": "stdout",
          "text": [
            "The \"global\" statement\n",
            "**********************\n",
            "\n",
            "   global_stmt ::= \"global\" identifier (\",\" identifier)*\n",
            "\n",
            "The \"global\" statement is a declaration which holds for the entire\n",
            "current code block.  It means that the listed identifiers are to be\n",
            "interpreted as globals.  It would be impossible to assign to a global\n",
            "variable without \"global\", although free variables may refer to\n",
            "globals without being declared global.\n",
            "\n",
            "Names listed in a \"global\" statement must not be used in the same code\n",
            "block textually preceding that \"global\" statement.\n",
            "\n",
            "Names listed in a \"global\" statement must not be defined as formal\n",
            "parameters, or as targets in \"with\" statements or \"except\" clauses, or\n",
            "in a \"for\" target list, \"class\" definition, function definition,\n",
            "\"import\" statement, or variable annotation.\n",
            "\n",
            "**CPython implementation detail:** The current implementation does not\n",
            "enforce some of these restrictions, but programs should not abuse this\n",
            "freedom, as future implementations may enforce them or silently change\n",
            "the meaning of the program.\n",
            "\n",
            "**Programmer’s note:** \"global\" is a directive to the parser.  It\n",
            "applies only to code parsed at the same time as the \"global\"\n",
            "statement. In particular, a \"global\" statement contained in a string\n",
            "or code object supplied to the built-in \"exec()\" function does not\n",
            "affect the code block *containing* the function call, and code\n",
            "contained in such a string is unaffected by \"global\" statements in the\n",
            "code containing the function call.  The same applies to the \"eval()\"\n",
            "and \"compile()\" functions.\n",
            "\n",
            "Related help topics: nonlocal, NAMESPACES\n",
            "\n"
          ]
        }
      ]
    },
    {
      "cell_type": "markdown",
      "source": [
        "# New Section"
      ],
      "metadata": {
        "id": "oS5I3mvBpFxX"
      }
    }
  ]
}